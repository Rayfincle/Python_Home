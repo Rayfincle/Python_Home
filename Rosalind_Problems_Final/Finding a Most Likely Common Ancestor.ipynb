{
 "cells": [
  {
   "cell_type": "code",
   "execution_count": 3,
   "id": "5dd18a52",
   "metadata": {},
   "outputs": [],
   "source": [
    "import numpy as np\n",
    "\n",
    "sample_data = \"\"\">Rosalind_1\n",
    "ATCCAGCT\n",
    ">Rosalind_2\n",
    "GGGCAACT\n",
    ">Rosalind_3\n",
    "ATGGATCT\n",
    ">Rosalind_4\n",
    "AAGCAACC\n",
    ">Rosalind_5\n",
    "TTGGAACT\n",
    ">Rosalind_6\n",
    "ATGCCATT\n",
    ">Rosalind_7\n",
    "ATGGCACT \"\"\"\n",
    "\n"
   ]
  },
  {
   "cell_type": "code",
   "execution_count": 4,
   "id": "192f2238",
   "metadata": {},
   "outputs": [
    {
     "name": "stdout",
     "output_type": "stream",
     "text": [
      "{'Rosalind_1': 'ATCCAGCT', 'Rosalind_2': 'GGGCAACT', 'Rosalind_3': 'ATGGATCT', 'Rosalind_4': 'AAGCAACC', 'Rosalind_5': 'TTGGAACT', 'Rosalind_6': 'ATGCCATT', 'Rosalind_7': 'ATGGCACT'}\n"
     ]
    }
   ],
   "source": [
    "chunks = []  # create an empty list to store extracted data\n",
    "\n",
    "start = 0  # initialize start variable to 0\n",
    "while True:  # create a loop that continues until broken\n",
    "    start = sample_data.find(\">\", start)  # find the next \">\" symbol in data starting from the current value of start\n",
    "    if start == -1:  # if \">\" symbol is not found, break the loop\n",
    "        break\n",
    "    end = sample_data.find(\">\", start+1)  # find the next \">\" symbol after the start symbol in data\n",
    "    if end == -1:  # if \">\" symbol is not found, set end to the length of text\n",
    "        end = len(sample_data)\n",
    "    piece = sample_data[start+1:end].strip()  # extract the text between the two \">\" symbols and remove any leading/trailing whitespaces\n",
    "    chunks.append(piece)  # add the extracted piece to the chunks list\n",
    "    start = end  # set the start value to the end value for the next iteration of the loop\n",
    "\n",
    "chunks = [chunk.replace('\\n', ' ') for chunk in chunks]    \n",
    "\n",
    "\n",
    "# Define an empty list to store the names\n",
    "list_item_names = []\n",
    "list_item_sequence = []\n",
    "\n",
    "# Iterate over each item in the list\n",
    "for item in chunks:\n",
    "    # Split the item by the first space character\n",
    "    name, sequence = item.split(' ', 1)\n",
    "    # Append the name to the list_item_names list\n",
    "    list_item_names.append(name)\n",
    "\n",
    "for item in chunks:\n",
    "    # Split the item by the first space character\n",
    "    name, sequence = item.split(' ', 1)\n",
    "    # Append the name to the list_item_names list\n",
    "    list_item_sequence.append(sequence)        \n",
    "        \n",
    "my_dict = dict(zip(list_item_names, list_item_sequence))\n",
    "\n",
    "print(my_dict)"
   ]
  },
  {
   "cell_type": "code",
   "execution_count": 5,
   "id": "3e798e79",
   "metadata": {},
   "outputs": [
    {
     "name": "stdout",
     "output_type": "stream",
     "text": [
      "[[0. 0. 0. 0. 0. 0. 0. 0.]\n",
      " [0. 0. 0. 0. 0. 0. 0. 0.]\n",
      " [0. 0. 0. 0. 0. 0. 0. 0.]\n",
      " [0. 0. 0. 0. 0. 0. 0. 0.]\n",
      " [0. 0. 0. 0. 0. 0. 0. 0.]\n",
      " [0. 0. 0. 0. 0. 0. 0. 0.]\n",
      " [0. 0. 0. 0. 0. 0. 0. 0.]]\n"
     ]
    }
   ],
   "source": [
    "# Get the lengths of the strings in the values of the dictionary\n",
    "string_lengths = [len(s) for s in my_dict.values()]\n",
    "\n",
    "# Create the grid with the appropriate shape\n",
    "grid = np.zeros((len(my_dict), max(string_lengths)))\n",
    "\n",
    "print(grid)\n"
   ]
  },
  {
   "cell_type": "code",
   "execution_count": 36,
   "id": "dd6a0fff",
   "metadata": {},
   "outputs": [
    {
     "name": "stdout",
     "output_type": "stream",
     "text": [
      "1 ATCCAGCT\n",
      "A\n",
      "T\n",
      "C\n",
      "C\n",
      "A\n",
      "G\n",
      "C\n",
      "T\n",
      "2 GGGCAACT\n",
      "G\n",
      "G\n",
      "G\n",
      "C\n",
      "A\n",
      "A\n",
      "C\n",
      "T\n",
      "3 ATGGATCT\n",
      "A\n",
      "T\n",
      "G\n",
      "G\n",
      "A\n",
      "T\n",
      "C\n",
      "T\n",
      "4 AAGCAACC\n",
      "A\n",
      "A\n",
      "G\n",
      "C\n",
      "A\n",
      "A\n",
      "C\n",
      "C\n",
      "5 TTGGAACT\n",
      "T\n",
      "T\n",
      "G\n",
      "G\n",
      "A\n",
      "A\n",
      "C\n",
      "T\n",
      "6 ATGCCATT\n",
      "A\n",
      "T\n",
      "G\n",
      "C\n",
      "C\n",
      "A\n",
      "T\n",
      "T\n",
      "7 ATGGCACT\n",
      "A\n",
      "T\n",
      "G\n",
      "G\n",
      "C\n",
      "A\n",
      "C\n",
      "T\n"
     ]
    }
   ],
   "source": [
    "i = 1\n",
    "\n",
    "for key in my_dict:\n",
    "    grab = my_dict[key]\n",
    "    print(i, grab)\n",
    "    i = i + 1\n",
    "    \n",
    "    for seq in grab:\n",
    "        print(seq)\n",
    "    \n",
    " \n",
    "        \n",
    " "
   ]
  },
  {
   "cell_type": "code",
   "execution_count": 13,
   "id": "b349fa6f",
   "metadata": {},
   "outputs": [
    {
     "name": "stdout",
     "output_type": "stream",
     "text": [
      "[[0. 0.]\n",
      " [0. 0.]]\n"
     ]
    }
   ],
   "source": [
    "grid2 = np.zeros((2,2))\n",
    "print(grid2)"
   ]
  }
 ],
 "metadata": {
  "kernelspec": {
   "display_name": "Python 3 (ipykernel)",
   "language": "python",
   "name": "python3"
  },
  "language_info": {
   "codemirror_mode": {
    "name": "ipython",
    "version": 3
   },
   "file_extension": ".py",
   "mimetype": "text/x-python",
   "name": "python",
   "nbconvert_exporter": "python",
   "pygments_lexer": "ipython3",
   "version": "3.9.12"
  }
 },
 "nbformat": 4,
 "nbformat_minor": 5
}
