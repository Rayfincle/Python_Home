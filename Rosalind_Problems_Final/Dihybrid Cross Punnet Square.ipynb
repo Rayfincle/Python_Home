{
 "cells": [
  {
   "cell_type": "code",
   "execution_count": 100,
   "id": "e02df184",
   "metadata": {
    "scrolled": false
   },
   "outputs": [],
   "source": [
    "# population = k+m+n\n",
    "\n",
    "\n",
    "# kk > HH x HH > Outcomes HH, HH, HH, HH > Pphenotype = 1 > k1 x k2\n",
    "# km > HH x Hh > Outcomes HH, HH, Hh, Hh > Pphenotype = 1 > k1 x m1\n",
    "# kn > HH x hh > Outcomes Hh, Hh, Hh, Hh > Pphenotype = 1 > k1 x n1\n",
    "# mm > Hh x Hh > Outcomes HH, Hh, Hh, hh > Pphenotype = 3/4 m1 x m2\n",
    "# mn > Hh x hh > Outcomes Hh, hh, hh, hh > Pphenotype = 1/4 > m1 x n1\n",
    "# nn > hh x hh > Outcomes hh, hh, hh, hh > Pphenotype = 0 > n1 x n2\n",
    "\n",
    "\n",
    "# 47 / 60 is the key.\n",
    "\n",
    "# breeding_pairs = n(n-1)/2\n",
    "# Punnet_combos = 4\n",
    "# total_outcomes = breeding_pairs * Punnet_combos\n",
    "\n",
    "\n",
    "# km > HH x Hh > Outcomes HH, HH, Hh, Hh > Pphenotype = 1 > k2 x m2\n",
    "# kn > HH x hh > Outcomes Hh, Hh, Hh, Hh > Pphenotype = 1 > k2 x n2\n",
    "# mn > Hh x hh > Outcomes Hh, hh, hh, hh > Pphenotype = 1/4 > m2 x n2\n",
    "# km > HH x Hh > Outcomes HH, HH, Hh, Hh > Pphenotype = 1 > k1 x m2\n",
    "# kn > HH x hh > Outcomes Hh, Hh, Hh, Hh > Pphenotype = 1 > k1 x n2\n",
    "# mn > Hh x hh > Outcomes Hh, hh, hh, hh > Pphenotype = 1/4 > m1 x n2\n",
    "# kn > HH x hh > Outcomes Hh, Hh, Hh, Hh > Pphenotype = 1 > k2 x n1\n",
    "# mn > Hh x hh > Outcomes Hh, hh, hh, hh > Pphenotype = 1/4 > m2 x n1\n",
    "# km > HH x Hh > Outcomes HH, HH, Hh, Hh > Pphenotype = 1 > m1 x k2\n",
    "\n",
    "#Answer = (1+1+1+(3/4)+(1/2)) / 6\n",
    "#print(Answer)\n",
    "\n",
    "# k1 = HH\n",
    "# k2 = HH\n",
    "# m1 = Hh\n",
    "# m2 = Hh\n",
    "# n1 = hh\n",
    "# n2 = hh\n",
    "\n",
    "# Probability of selecting a kk pair\n",
    "# kk > HH x HH > Outcomes HH, HH, HH, HH > Pphenotype = 1\n",
    "\n",
    "# probability k\n",
    "#pH = 1/6\n",
    "\n",
    "# probability k after k\n",
    "\n",
    "#pI = 1/5\n",
    "\n",
    "#pkk = pH * pI\n",
    "\n",
    "#print(pkm)"
   ]
  },
  {
   "cell_type": "code",
   "execution_count": 2,
   "id": "104eebad",
   "metadata": {},
   "outputs": [
    {
     "name": "stdout",
     "output_type": "stream",
     "text": [
      "60.0\n"
     ]
    }
   ],
   "source": [
    "### HOW TO CALCULATE THE NUMBER OF OUTCOMES\n",
    "\n",
    "n = 6\n",
    "# 47 / 60 is the key.\n",
    "\n",
    "breeding_pairs = n*(n-1)/2\n",
    "Punnet_combos = 4\n",
    "total_outcomes = breeding_pairs * Punnet_combos\n",
    "print(total_outcomes)"
   ]
  },
  {
   "cell_type": "code",
   "execution_count": 9,
   "id": "70bd2052",
   "metadata": {},
   "outputs": [
    {
     "name": "stdout",
     "output_type": "stream",
     "text": [
      "{'k1': ['H', 'H'], 'k2': ['H', 'H'], 'm1': ['H', 'h'], 'm2': ['H', 'h'], 'n1': ['h', 'h'], 'n2': ['H', 'h']}\n"
     ]
    }
   ],
   "source": [
    "k1 = ['H' , 'H']\n",
    "k2 = ['H' , 'H']\n",
    "m1 = ['H' , 'h']\n",
    "m2 = ['H' , 'h']\n",
    "n1 = ['h' , 'h']\n",
    "n2 = ['H' , 'h']\n",
    "\n",
    "my_dict = {'k1': k1, 'k2': k2, 'm1': m1, 'm2': m2, 'n1': n1, 'n2': n2}\n",
    "print(my_dict)\n",
    "\n"
   ]
  },
  {
   "cell_type": "code",
   "execution_count": 10,
   "id": "e99904e9",
   "metadata": {},
   "outputs": [
    {
     "name": "stdout",
     "output_type": "stream",
     "text": [
      "{'k1 x k1': ['HH', 'HH', 'HH', 'HH'], 'k1 x k2': ['HH', 'HH', 'HH', 'HH'], 'k1 x m1': ['HH', 'Hh', 'HH', 'Hh'], 'k1 x m2': ['HH', 'Hh', 'HH', 'Hh'], 'k1 x n1': ['Hh', 'Hh', 'Hh', 'Hh'], 'k1 x n2': ['Hh', 'Hh', 'Hh', 'Hh'], 'k2 x k2': ['HH', 'HH', 'HH', 'HH'], 'k2 x m1': ['HH', 'Hh', 'HH', 'Hh'], 'k2 x m2': ['HH', 'Hh', 'HH', 'Hh'], 'k2 x n1': ['Hh', 'Hh', 'Hh', 'Hh'], 'k2 x n2': ['Hh', 'Hh', 'Hh', 'Hh'], 'm1 x m1': ['HH', 'Hh', 'hH', 'hh'], 'm1 x m2': ['HH', 'Hh', 'hH', 'hh'], 'm1 x n1': ['Hh', 'Hh', 'hh', 'hh'], 'm1 x n2': ['Hh', 'Hh', 'hh', 'hh'], 'm2 x m2': ['HH', 'Hh', 'hH', 'hh'], 'm2 x n1': ['Hh', 'Hh', 'hh', 'hh'], 'm2 x n2': ['Hh', 'Hh', 'hh', 'hh'], 'n1 x n1': ['hh', 'hh', 'hh', 'hh'], 'n1 x n2': ['hh', 'hh', 'hh', 'hh'], 'n2 x n2': ['hh', 'hh', 'hh', 'hh']}\n"
     ]
    }
   ],
   "source": [
    "# Define the original dictionary\n",
    "k1 = ['H', 'H']\n",
    "k2 = ['H', 'H']\n",
    "m1 = ['H', 'h']\n",
    "m2 = ['H', 'h']\n",
    "n1 = ['h', 'h']\n",
    "n2 = ['h', 'h']\n",
    "\n",
    "my_dict = {'k1': k1, 'k2': k2, 'm1': m1, 'm2': m2, 'n1': n1, 'n2': n2}\n",
    "\n",
    "# Define the new dictionary\n",
    "homozygous_cross = {}\n",
    "\n",
    "# Loop through the keys in the original dictionary\n",
    "for i in range(len(my_dict)):\n",
    "    for j in range(i, len(my_dict)):\n",
    "        \n",
    "        # Perform the homozygous cross and store the results in the new dictionary\n",
    "        key1, key2 = list(my_dict.keys())[i], list(my_dict.keys())[j]\n",
    "        offspring = []\n",
    "        for allele1 in my_dict[key1]:\n",
    "            for allele2 in my_dict[key2]:\n",
    "                offspring.append(allele1 + allele2)\n",
    "        homozygous_cross[key1 + ' x ' + key2] = offspring\n",
    "\n",
    "# Print the new dictionary\n",
    "print(homozygous_cross)\n"
   ]
  },
  {
   "cell_type": "code",
   "execution_count": 11,
   "id": "f98f13be",
   "metadata": {},
   "outputs": [
    {
     "name": "stdout",
     "output_type": "stream",
     "text": [
      "0.0\n"
     ]
    }
   ],
   "source": [
    "count = 0\n",
    "not_count = 0\n",
    "\n",
    "for value in homozygous_cross.values():\n",
    "    if 'H' in value:\n",
    "        count += 1\n",
    "    else:\n",
    "        not_count += 1\n",
    "\n",
    "print(count / (count + not_count))"
   ]
  },
  {
   "cell_type": "code",
   "execution_count": 32,
   "id": "03e3fcff",
   "metadata": {},
   "outputs": [
    {
     "name": "stdout",
     "output_type": "stream",
     "text": [
      "8.0\n"
     ]
    }
   ],
   "source": [
    "for value in homozygous_cross.values():\n",
    "    for character in ''.join(value):\n",
    "        if character == 'H':\n",
    "            count += 1\n",
    "\n",
    "print(count / (len(homozygous_cross)))"
   ]
  },
  {
   "cell_type": "code",
   "execution_count": 28,
   "id": "53944bb2",
   "metadata": {},
   "outputs": [
    {
     "name": "stdout",
     "output_type": "stream",
     "text": [
      "21\n"
     ]
    }
   ],
   "source": [
    "new_dict "
   ]
  }
 ],
 "metadata": {
  "kernelspec": {
   "display_name": "Python 3 (ipykernel)",
   "language": "python",
   "name": "python3"
  },
  "language_info": {
   "codemirror_mode": {
    "name": "ipython",
    "version": 3
   },
   "file_extension": ".py",
   "mimetype": "text/x-python",
   "name": "python",
   "nbconvert_exporter": "python",
   "pygments_lexer": "ipython3",
   "version": "3.9.12"
  }
 },
 "nbformat": 4,
 "nbformat_minor": 5
}
