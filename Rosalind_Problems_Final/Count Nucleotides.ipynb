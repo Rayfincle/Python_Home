{
 "cells": [
  {
   "cell_type": "code",
   "execution_count": 82,
   "id": "0e9cdc16",
   "metadata": {},
   "outputs": [
    {
     "name": "stdout",
     "output_type": "stream",
     "text": [
      "AGCTTTTCATTCTGACTGCAACGGGCAATATGTCTCTGTGTGGATTAAAAAAAGAGTGTCTGATAGCAGC\n"
     ]
    }
   ],
   "source": [
    "DNA = input()"
   ]
  },
  {
   "cell_type": "code",
   "execution_count": 83,
   "id": "5231fedd",
   "metadata": {},
   "outputs": [
    {
     "name": "stdout",
     "output_type": "stream",
     "text": [
      "20 12 17 21\n"
     ]
    }
   ],
   "source": [
    "from collections import Counter\n",
    "bases = ['A', 'C', 'G', 'T']\n",
    "Answer = Counter(DNA)\n",
    "result = list(Answer.values())\n",
    "print(f\"{Answer['A']} {Answer['C']} {Answer['G']} {Answer['T']}\")\n"
   ]
  },
  {
   "cell_type": "code",
   "execution_count": 73,
   "id": "4d803b33",
   "metadata": {},
   "outputs": [
    {
     "ename": "SyntaxError",
     "evalue": "invalid syntax (2716960858.py, line 1)",
     "output_type": "error",
     "traceback": [
      "\u001b[1;36m  Input \u001b[1;32mIn [73]\u001b[1;36m\u001b[0m\n\u001b[1;33m    print(Answer{G})\u001b[0m\n\u001b[1;37m                ^\u001b[0m\n\u001b[1;31mSyntaxError\u001b[0m\u001b[1;31m:\u001b[0m invalid syntax\n"
     ]
    }
   ],
   "source": [
    "print(Answer{G})"
   ]
  }
 ],
 "metadata": {
  "kernelspec": {
   "display_name": "Python 3 (ipykernel)",
   "language": "python",
   "name": "python3"
  },
  "language_info": {
   "codemirror_mode": {
    "name": "ipython",
    "version": 3
   },
   "file_extension": ".py",
   "mimetype": "text/x-python",
   "name": "python",
   "nbconvert_exporter": "python",
   "pygments_lexer": "ipython3",
   "version": "3.9.12"
  }
 },
 "nbformat": 4,
 "nbformat_minor": 5
}
