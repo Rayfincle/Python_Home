{
 "cells": [
  {
   "cell_type": "code",
   "execution_count": 2,
   "id": "01a224a7",
   "metadata": {
    "scrolled": true
   },
   "outputs": [
    {
     "name": "stdout",
     "output_type": "stream",
     "text": [
      "[1, 1, 4, 0, 0, 0]\n",
      "[1, 1, 4, 7, 0, 0]\n",
      "[1, 1, 4, 7, 19, 0]\n",
      "[1, 1, 4, 7, 19, 40]\n"
     ]
    },
    {
     "data": {
      "text/plain": [
       "40"
      ]
     },
     "execution_count": 2,
     "metadata": {},
     "output_type": "execute_result"
    }
   ],
   "source": [
    "def rabbit_pairs(n, k):\n",
    "    \n",
    "    # Initialize the list F with the first two terms of the sequence (i.e., F[0] = F[1] = 1)\n",
    "    # The ist two terms are 1 and the addition of the [0] means that the two lsits are being concatenated with the n-2 multiplier coming from the function.\n",
    "    # This isnt done strictly algebraicly, the for loop runs the 'equation' - F[i] = F[i-1] + k * F[i-2] on the contents of the list F using the other instances in the list in the calculation. The for loop used the position in the list to do the math.\n",
    "    F = [1, 1] + [0] * (n - 2)\n",
    "    \n",
    "    # Loop over the remaining terms of the sequence, computing each term using the recurrence relation\n",
    "    \n",
    "    for i in range(2, n):\n",
    "        F[i] = F[i-1] + k * F[i-2]\n",
    "        print(F)\n",
    "        \n",
    "    # Return the number of rabbit pairs alive after n months (i.e., the (n-1)-th term of the sequence)\n",
    "    # n-1 because we always start at 0 in the list\n",
    "    return F[n-1]\n",
    "\n",
    "rabbit_pairs(6, 3)"
   ]
  },
  {
   "cell_type": "code",
   "execution_count": 11,
   "id": "616fea9f",
   "metadata": {},
   "outputs": [
    {
     "name": "stdout",
     "output_type": "stream",
     "text": [
      "[1, 1]\n"
     ]
    }
   ],
   "source": [
    "#def rabbit_pairs(n, k):\n",
    "    \n",
    "    # Initialize the list F with the first two terms of the sequence (i.e., F[0] = F[1] = 1)\n",
    "    # The ist two terms are 1 and the addition of the [0] means that the two lsits are being concatenated with the n-2 multiplier coming from the function.\n",
    "    # This isnt done strictly algebraicly, the for loop runs the 'equation' - F[i] = F[i-1] + k * F[i-2] on the contents of the list F using the other instances in the list in the calculation. The for loop used the position in the list to do the math.\n",
    "    \n",
    "n = 0\n",
    "    \n",
    "F = [1, 1] + [0] * (n - 2)\n",
    "    \n",
    "    \n",
    "print(F)"
   ]
  },
  {
   "cell_type": "code",
   "execution_count": 12,
   "id": "41c941a9",
   "metadata": {},
   "outputs": [
    {
     "ename": "NameError",
     "evalue": "name 'i' is not defined",
     "output_type": "error",
     "traceback": [
      "\u001b[1;31m---------------------------------------------------------------------------\u001b[0m",
      "\u001b[1;31mNameError\u001b[0m                                 Traceback (most recent call last)",
      "Input \u001b[1;32mIn [12]\u001b[0m, in \u001b[0;36m<cell line: 1>\u001b[1;34m()\u001b[0m\n\u001b[1;32m----> 1\u001b[0m F[i] \u001b[38;5;241m=\u001b[39m F[\u001b[43mi\u001b[49m\u001b[38;5;241m-\u001b[39m\u001b[38;5;241m1\u001b[39m] \u001b[38;5;241m+\u001b[39m k \u001b[38;5;241m*\u001b[39m F[i\u001b[38;5;241m-\u001b[39m\u001b[38;5;241m2\u001b[39m]\n\u001b[0;32m      2\u001b[0m \u001b[38;5;28mprint\u001b[39m(F)\n",
      "\u001b[1;31mNameError\u001b[0m: name 'i' is not defined"
     ]
    }
   ],
   "source": [
    "F[i] = F[i-1] + k * F[i-2]\n",
    "print(F)"
   ]
  },
  {
   "cell_type": "code",
   "execution_count": null,
   "id": "aa543885",
   "metadata": {},
   "outputs": [],
   "source": []
  }
 ],
 "metadata": {
  "kernelspec": {
   "display_name": "Python 3 (ipykernel)",
   "language": "python",
   "name": "python3"
  },
  "language_info": {
   "codemirror_mode": {
    "name": "ipython",
    "version": 3
   },
   "file_extension": ".py",
   "mimetype": "text/x-python",
   "name": "python",
   "nbconvert_exporter": "python",
   "pygments_lexer": "ipython3",
   "version": "3.9.12"
  }
 },
 "nbformat": 4,
 "nbformat_minor": 5
}
