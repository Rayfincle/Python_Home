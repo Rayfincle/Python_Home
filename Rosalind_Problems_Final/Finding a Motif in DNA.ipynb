{
 "cells": [
  {
   "cell_type": "code",
   "execution_count": 15,
   "id": "05914738",
   "metadata": {},
   "outputs": [],
   "source": [
    "DNA = \"GCCTTTGGGATCTCCGGGTTATGGACCGGATCTCCGGGATCTCTGACAACGGGATCTCGGATCTCGGGTACCAGGTGCGGATCTCTGGATCTCGGATCTCTCCAGGTGGATCTCCAACGGGGATCTCCGGATCTCTGGATCTCTGCGGAGGATCTCGGATCTCTTGCCCGGATGGATCTCCGGATCTCAGGATCTCCTCAGGATCTCGAGGGATCTCGGATCTCCAGGGATCTCACGTCCCGACCGGGATCTCCTGCGGATCTCTGGATCTCAGTGCTGGTCGGATCTCAATGCCAAGAGGGATCTCGTGGGATCTCTGGATCTCGGATCTCGGATCTCGGATCTCACGTAGATTGGATCTCCTGGATCTCCGGATCTCTCGGGATCTCGGATCTCGGATCTCCGGATCTCGCCAGGGATCTCTAACGGATCTCAGGTGGATCTCGGGATCTCTGGATCTCTTGGATCTCCTACGGATCTCGGATCTCTTTGGATCTCGGATCTCGCGGATCTCAGGATCTCGGATCTCGTGATAGTAGGATCTCGGATCTCGGGGATCTCTGCAGGATCTCTGGATCTCGGATCTCGGGATCTCACGGATCTCGGATCTCGGATCTCTGGATCTCGAGGATCTCAACATCACGGATCTCGGATCTCCGGATCTCGGATCTCGGATCTCGCGGATCTCGGATCTCTCATTCATGGATCTCTCGGATCTCAGTGGATCTCGGATCTCGCTAGGTGGATCTCGGATCTCAGGATCTCCGGATCTCGGATCTCTTGTAGGCTAGGATCTCTTTCCTATATTGTTGATGGATCTCAAATGTAAGGATCTC\"\n",
    "motif = 'GGATCTCGG'"
   ]
  },
  {
   "cell_type": "code",
   "execution_count": 41,
   "id": "9dd34ead",
   "metadata": {},
   "outputs": [
    {
     "name": "stdout",
     "output_type": "stream",
     "text": [
      "52 59 87 150 211 319 326 333 383 390 439 475 492 516 539 546 574 581 598 605 644 659 666 682 723 744 767\n"
     ]
    }
   ],
   "source": [
    "result = []\n",
    "\n",
    "i = 0\n",
    "\n",
    "while i < len(DNA):\n",
    "    location = DNA.find(motif, i)\n",
    "    if location == -1:\n",
    "        break\n",
    "    result.append(location +1)\n",
    "    \n",
    "    i = location +1\n",
    "    \n",
    "concatenated_result = \" \".join(str(x) for x in result)\n",
    "print(concatenated_result)"
   ]
  }
 ],
 "metadata": {
  "kernelspec": {
   "display_name": "Python 3 (ipykernel)",
   "language": "python",
   "name": "python3"
  },
  "language_info": {
   "codemirror_mode": {
    "name": "ipython",
    "version": 3
   },
   "file_extension": ".py",
   "mimetype": "text/x-python",
   "name": "python",
   "nbconvert_exporter": "python",
   "pygments_lexer": "ipython3",
   "version": "3.9.12"
  }
 },
 "nbformat": 4,
 "nbformat_minor": 5
}
