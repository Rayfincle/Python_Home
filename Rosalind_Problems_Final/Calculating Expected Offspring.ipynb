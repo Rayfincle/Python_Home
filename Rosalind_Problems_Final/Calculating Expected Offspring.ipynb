{
 "cells": [
  {
   "cell_type": "code",
   "execution_count": 15,
   "id": "0ef58694",
   "metadata": {},
   "outputs": [
    {
     "name": "stdout",
     "output_type": "stream",
     "text": [
      "How many 1. Pairs to Cross: 1\n",
      "How many 2. Pairs to Cross: 1\n",
      "How many 3. Pairs to Cross: 1\n",
      "How many 4. Pairs to Cross: 1\n",
      "How many 5. Pairs to Cross: 1\n",
      "How many 6. Pairs to Cross: 1\n"
     ]
    }
   ],
   "source": [
    "one = int(input(\"How many 1. Pairs to Cross: \"))\n",
    "two = int(input(\"How many 2. Pairs to Cross: \"))\n",
    "three = int(input(\"How many 3. Pairs to Cross: \"))\n",
    "four = int(input(\"How many 4. Pairs to Cross: \"))\n",
    "five = int(input(\"How many 5. Pairs to Cross: \"))\n",
    "six = int(input(\"How many 6. Pairs to Cross: \"))\n",
    "\n",
    "# Define the original dictionary\n",
    "\n",
    "a = ['A', 'A']\n",
    "b = ['A', 'a']\n",
    "c = ['a', 'a']\n",
    "\n",
    "# Crosses 1. a * a 2. a * b 3. a * c 4. b * b 5. b * c 6. c * c\n",
    " \n",
    "one_cross = {1 : a, 2 : a}\n",
    "two_cross = {1 : a, 2 : b}\n",
    "three_cross = {1 : a, 2 : c}\n",
    "four_cross = {1 : b, 2 : b}\n",
    "five_cross = {1 : b, 2 : c}\n",
    "six_cross = {1 : c, 2 : c}\n",
    "\n",
    "def multiply_dictionary(dictionary, factor):\n",
    "    multiplied_dict = {}\n",
    "    for key, value in dictionary.items():\n",
    "        for i in range(1, factor + 1):\n",
    "            multiplied_dict[key * factor + i] = value[:]\n",
    "    return multiplied_dict\n",
    "\n",
    "\n",
    "\n",
    "#my_dict = {'k1': k1, 'k2': k2, 'm1': m1, 'm2': m2, 'n1': n1, 'n2': n2}\n",
    "\n",
    "# Define the new dictionary\n",
    "#homozygous_cross = {}\n",
    "\n",
    "# Loop through the keys in the original dictionary\n",
    "#for i in range(len(one_cross)):\n",
    " #   for j in range(i, len(my_dict)):\n",
    "        \n",
    "        # Perform the homozygous cross and store the results in the new dictionary\n",
    "  #      key1, key2 = list(my_dict.keys())[i], list(my_dict.keys())[j]\n",
    "   #     offspring = []\n",
    "    #    for allele1 in my_dict[key1]:\n",
    "     #       for allele2 in my_dict[key2]:\n",
    "      #          offspring.append(allele1 + allele2)\n",
    "       # homozygous_cross[key1 + ' x ' + key2] = offspring\n",
    "\n",
    "# Print the new dictionary\n",
    "#print(homozygous_cross)\n"
   ]
  },
  {
   "cell_type": "code",
   "execution_count": 16,
   "id": "babe75b6",
   "metadata": {},
   "outputs": [
    {
     "name": "stdout",
     "output_type": "stream",
     "text": [
      "{2: ['A', 'A'], 3: ['A', 'A']}\n",
      "{2: ['A', 'A'], 3: ['A', 'a']}\n",
      "{2: ['A', 'A'], 3: ['a', 'a']}\n",
      "{2: ['A', 'a'], 3: ['A', 'a']}\n",
      "{2: ['A', 'a'], 3: ['a', 'a']}\n",
      "{2: ['a', 'a'], 3: ['a', 'a']}\n"
     ]
    }
   ],
   "source": [
    "multiplied_dict_one = multiply_dictionary(one_cross, one)\n",
    "print(multiplied_dict_one)\n",
    "multiplied_dict_two = multiply_dictionary(two_cross, two)\n",
    "print(multiplied_dict_two)\n",
    "multiplied_dict_three = multiply_dictionary(three_cross, three)\n",
    "print(multiplied_dict_three)\n",
    "multiplied_dict_four = multiply_dictionary(four_cross, four)\n",
    "print(multiplied_dict_four)\n",
    "multiplied_dict_five = multiply_dictionary(five_cross, five)\n",
    "print(multiplied_dict_five)\n",
    "multiplied_dict_six = multiply_dictionary(six_cross, six)\n",
    "print(multiplied_dict_six)\n"
   ]
  },
  {
   "cell_type": "code",
   "execution_count": 17,
   "id": "7ce6e851",
   "metadata": {},
   "outputs": [
    {
     "name": "stdout",
     "output_type": "stream",
     "text": [
      "{'2 x 2': ['A:A', 'A:A', 'A:A', 'A:A'], '2 x 3': ['A:A', 'A:A', 'A:A', 'A:A'], '3 x 3': ['A:A', 'A:A', 'A:A', 'A:A']}\n"
     ]
    }
   ],
   "source": [
    "homozygous_cross = {}\n",
    "\n",
    "# Loop through the keys in the original dictionary\n",
    "for i in range(len(multiplied_dict_one)):\n",
    "    for j in range(i, len(multiplied_dict_one)):\n",
    "        \n",
    "        # Perform the homozygous cross and store the results in the new dictionary\n",
    "        key1, key2 = list(multiplied_dict_one.keys())[i], list(multiplied_dict_one.keys())[j]\n",
    "        offspring = []\n",
    "        for allele1 in multiplied_dict_one[key1]:\n",
    "            for allele2 in multiplied_dict_one[key2]:\n",
    "                offspring.append(allele1 + \":\" + allele2)\n",
    "        homozygous_cross[str(key1) + ' x ' + str(key2)] = offspring\n",
    "\n",
    "# Print the new dictionary\n",
    "print(homozygous_cross)\n"
   ]
  },
  {
   "cell_type": "code",
   "execution_count": 2,
   "id": "2f324a41",
   "metadata": {},
   "outputs": [
    {
     "name": "stdout",
     "output_type": "stream",
     "text": [
      "Value for k: 2\n",
      "Value for m: 2\n",
      "Value for n: 2\n",
      "0.7833333333333333\n"
     ]
    }
   ],
   "source": [
    "k = int(input(\"Value for k: \"))\n",
    "m = int(input(\"Value for m: \"))\n",
    "n = int(input(\"Value for n: \"))\n",
    "\n",
    "k = k +1\n",
    "m = m + 1\n",
    "n = n + 1\n",
    "\n",
    "\n",
    "genetics = {}\n",
    "\n",
    "# create 16 keys with ['H', 'H'] as values\n",
    "for i in range(1, k):\n",
    "    key = 'k' + str(i)\n",
    "    genetics[key] = ['H', 'H']\n",
    "\n",
    "# create 19 keys with ['H', 'h'] as values\n",
    "for i in range(1, m):\n",
    "    key = 'm' + str(i)\n",
    "    genetics[key] = ['H', 'h']\n",
    "\n",
    "# create 24 keys with ['h', 'h'] as values\n",
    "for i in range(1, n):\n",
    "    key = 'n' + str(i)\n",
    "    genetics[key] = ['h', 'h']\n",
    "\n",
    "    \n",
    "cross = []\n",
    "\n",
    "for key in genetics:\n",
    "    cycle_value = genetics[key]    # > Runs through the dictionary keys\n",
    "    \n",
    "    # Get the index of the current key\n",
    "    current_index = list(genetics.keys()).index(key) # > Grabs the index of where the for loop is above by turning a dictionary to a list\n",
    "    \n",
    "    # Loop over all keys after the current key\n",
    "    for other_key in list(genetics.keys())[current_index+1:]: # Starts a second loop though the dictionary, turning the dictionary to a list and slicing from index+1: to the  end of the list.\n",
    "        other_cycle_value = genetics[other_key]\n",
    "        \n",
    "        # The two for loops above basically for loop 1 grabs one key from the dictionary and the second for loop grabs the next key along we now have both stored in cycle_value and other_cycle_value to work with in the next steps.\n",
    "        #\n",
    "        #Loop over the values in both cycles and print the combinations\n",
    "        for i in range(len(cycle_value)): # loops through all of the values in the values list initiated by the first for loop.\n",
    "            for j in range(len(other_cycle_value)): # Does the same as above but with the second for loop on the next kay along\n",
    "                cross.append(cycle_value[i] + other_cycle_value[j]) # adds both together and prints.\n",
    "                \n",
    "\n",
    "\n",
    "present = 0\n",
    "absent = 0\n",
    "\n",
    "for item in cross:\n",
    "    if \"H\" in item:\n",
    "        present = present + 1\n",
    "    else:\n",
    "        absent = absent + 1\n",
    "        \n",
    "print(present / (present + absent))\n",
    "    "
   ]
  },
  {
   "cell_type": "code",
   "execution_count": 3,
   "id": "5e7f6140",
   "metadata": {
    "scrolled": true
   },
   "outputs": [
    {
     "name": "stdout",
     "output_type": "stream",
     "text": [
      "{'k1': ['H', 'H'], 'k2': ['H', 'H'], 'm1': ['H', 'h'], 'm2': ['H', 'h'], 'm3': ['H', 'h'], 'n1': ['h', 'h'], 'n2': ['h', 'h'], 'n3': ['h', 'h'], 'n4': ['h', 'h']}\n"
     ]
    }
   ],
   "source": [
    "print(genetics)"
   ]
  },
  {
   "cell_type": "code",
   "execution_count": 78,
   "id": "41066449",
   "metadata": {},
   "outputs": [],
   "source": [
    "Ex = (1 * 1/6) + (2 * 1/6) + (3 * 1/6) + (4 * 1/6) + (5 * 1/6) + (6 * 1/6)"
   ]
  },
  {
   "cell_type": "code",
   "execution_count": 77,
   "id": "732a5976",
   "metadata": {
    "scrolled": true
   },
   "outputs": [
    {
     "ename": "NameError",
     "evalue": "name 'AA' is not defined",
     "output_type": "error",
     "traceback": [
      "\u001b[1;31m---------------------------------------------------------------------------\u001b[0m",
      "\u001b[1;31mNameError\u001b[0m                                 Traceback (most recent call last)",
      "Input \u001b[1;32mIn [77]\u001b[0m, in \u001b[0;36m<cell line: 1>\u001b[1;34m()\u001b[0m\n\u001b[1;32m----> 1\u001b[0m \u001b[43mAA\u001b[49m\u001b[38;5;241m-\u001b[39mAA\n\u001b[0;32m      2\u001b[0m AA\u001b[38;5;241m-\u001b[39mAa\n\u001b[0;32m      3\u001b[0m AA\u001b[38;5;241m-\u001b[39maa\n",
      "\u001b[1;31mNameError\u001b[0m: name 'AA' is not defined"
     ]
    }
   ],
   "source": [
    "\n",
    "\n"
   ]
  },
  {
   "cell_type": "code",
   "execution_count": 49,
   "id": "3c79768d",
   "metadata": {},
   "outputs": [],
   "source": [
    "1 0 0 1 0 1"
   ]
  },
  {
   "cell_type": "code",
   "execution_count": 76,
   "id": "b186dff2",
   "metadata": {},
   "outputs": [
    {
     "ename": "TypeError",
     "evalue": "'str' object is not callable",
     "output_type": "error",
     "traceback": [
      "\u001b[1;31m---------------------------------------------------------------------------\u001b[0m",
      "\u001b[1;31mTypeError\u001b[0m                                 Traceback (most recent call last)",
      "Input \u001b[1;32mIn [76]\u001b[0m, in \u001b[0;36m<cell line: 1>\u001b[1;34m()\u001b[0m\n\u001b[1;32m----> 1\u001b[0m user_input \u001b[38;5;241m=\u001b[39m \u001b[38;5;28;43minput\u001b[39;49m\u001b[43m(\u001b[49m\u001b[38;5;124;43m\"\u001b[39;49m\u001b[38;5;124;43mTell me the data: \u001b[39;49m\u001b[38;5;124;43m\"\u001b[39;49m\u001b[43m)\u001b[49m\n",
      "\u001b[1;31mTypeError\u001b[0m: 'str' object is not callable"
     ]
    }
   ],
   "source": [
    "AA-AA\n",
    "AA-Aa\n",
    "AA-aa\n",
    "Aa-Aa\n",
    "Aa-aa\n",
    "aa-aa"
   ]
  },
  {
   "cell_type": "code",
   "execution_count": 1,
   "id": "9bfa5822",
   "metadata": {},
   "outputs": [],
   "source": []
  },
  {
   "cell_type": "code",
   "execution_count": 9,
   "id": "52a0d98e",
   "metadata": {},
   "outputs": [
    {
     "name": "stdout",
     "output_type": "stream",
     "text": [
      "3.5\n"
     ]
    }
   ],
   "source": [
    "data = [\"1 0 0 1 0 1\"]\n",
    "\n",
    "Esone = (1 * 4/4)\n",
    "Estwo = (1 * 4/4)\n",
    "Esthree = (1 * 4/4)\n",
    "Esfour = (1 * 3/4)\n",
    "Esfive = (1 * 2/4)\n",
    "Essix = (1 * 0/4)\n",
    "\n",
    "numbers = data[0].split()  # Split the string into a list of individual numbers\n",
    "result = (Esone * int(numbers[0])*2) + (Estwo * int(numbers[1])*2) + (Esthree * int(numbers[2])*2) + (Esfour * int(numbers[3])*2) + (Esfive * int(numbers[4])*2) + (Essix * int(numbers[5])*2)\n",
    "\n",
    "print(result)\n"
   ]
  },
  {
   "cell_type": "code",
   "execution_count": 10,
   "id": "ceb91dad",
   "metadata": {},
   "outputs": [
    {
     "data": {
      "text/plain": [
       "['1', '0', '0', '1', '0', '1']"
      ]
     },
     "execution_count": 10,
     "metadata": {},
     "output_type": "execute_result"
    }
   ],
   "source": [
    "numbers\n"
   ]
  },
  {
   "cell_type": "code",
   "execution_count": 89,
   "id": "a0a4572b",
   "metadata": {
    "scrolled": true
   },
   "outputs": [
    {
     "data": {
      "text/plain": [
       "['19173', '16167', '18644', '16001', '19221', '17127']"
      ]
     },
     "execution_count": 89,
     "metadata": {},
     "output_type": "execute_result"
    }
   ],
   "source": [
    "numbers"
   ]
  },
  {
   "cell_type": "code",
   "execution_count": 11,
   "id": "9b99e6d0",
   "metadata": {},
   "outputs": [
    {
     "name": "stdout",
     "output_type": "stream",
     "text": [
      "154796.5\n"
     ]
    }
   ],
   "source": [
    "data = \"19177 17562 18130 18299 17610 17999\"  # Remove the square brackets to make it a string instead of a list\n",
    "\n",
    "# Split the string into a list of individual numbers and convert them to integers\n",
    "numbers = data.split()\n",
    "numbers = [int(num) for num in numbers]\n",
    "\n",
    "# Calculate the expected values for each genotype pairing\n",
    "Es = [1.0, 1.0, 1.0, 0.75, 0.5, 0.0]  # Expected values based on the problem description\n",
    "\n",
    "# Calculate the expected number of offspring displaying the dominant phenotype\n",
    "result = sum([Es[i] * numbers[i] * 2 for i in range(len(numbers))])\n",
    "\n",
    "print(result)\n"
   ]
  },
  {
   "cell_type": "code",
   "execution_count": 13,
   "id": "33b87760",
   "metadata": {},
   "outputs": [
    {
     "data": {
      "text/plain": [
       "[19177, 17562, 18130, 18299, 17610, 17999]"
      ]
     },
     "execution_count": 13,
     "metadata": {},
     "output_type": "execute_result"
    }
   ],
   "source": [
    "numbers"
   ]
  }
 ],
 "metadata": {
  "kernelspec": {
   "display_name": "Python 3 (ipykernel)",
   "language": "python",
   "name": "python3"
  },
  "language_info": {
   "codemirror_mode": {
    "name": "ipython",
    "version": 3
   },
   "file_extension": ".py",
   "mimetype": "text/x-python",
   "name": "python",
   "nbconvert_exporter": "python",
   "pygments_lexer": "ipython3",
   "version": "3.9.12"
  }
 },
 "nbformat": 4,
 "nbformat_minor": 5
}
