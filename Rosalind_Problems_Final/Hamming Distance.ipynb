{
 "cells": [
  {
   "cell_type": "code",
   "execution_count": 1,
   "id": "9c462aba",
   "metadata": {},
   "outputs": [
    {
     "name": "stdout",
     "output_type": "stream",
     "text": [
      "GAACTTAACGCCGATGCATCGGGGAGGGTGTAACCGACGCCGGCCTCGCGCCGCTGTGATGCCCACGTACTTTCTCGAGTTAGCCCCCTATCAACTGCTGCTCGTTTATGCATTTATTTCGAGTGTGAACCTAGCTCCCTGGGTAGGGAACGGGGCCGGCGAACCGAGACGGAAGTCTGCATTATATGGTCTGACGGGGACGATAAATCGTTTCTCCCGATGAAATGTCCCCGTGGCCCCCCATGGAGGCCGCCTCATATGGGACCTTATCGGGGACGGCTGGGAGGGCCATCCCCTGGTACATGCAGCAGATATGGGGACCTTGCAATGCGCATTCGAAGGGAATAGTGTGCTTTTTAGGGGAACACTCCGAAAATTTCAGTCAGCTGCAAAGGTTAAGTGTTACGAGACTTCATTGCTCCGACGTCACGTTTAAGACATAAATGCTATATCAAGGAGAAAGACAGGCTTGCCGTGCCAGAGGCTGCTATCCTCTCCTCACCCCGTTAAGAACCTACCTCGGTGTGTAGACGCGTCTCTTCAACTACAGGATCTACAGGACCCTAGATCTGGAACGGACTCTAGTATAAGGATAGCATGATACCAGCATACCAAACTAAATGGGATCCACTTACCACATTAAGTCCTGCCACCGTGGTCTTTTTATGCTGAGTCCTCACGTTGCATAAAAGACTATTAGTTTCCGATAATTTCATAGCATTAAGTAGCACTTTGAGTACATTCGATGGACCATATCATCTCCACACCGAGCCAGCCAACTCAATCACCGAGACTCCATTAGGAGGAACGGACATTTTACCTCAGGAATTAGTTTTTGCGCTGGGGTATCTCAGAAGCCGGGAGCGAGCTGCCCTACCAAAGGGCCAAAATGCATAGATATACGAGGTTCGTGGTGTATAAACAACTCGATCGTCGCTTCCAGTTACATCCTATGGCGTCCAATGATACCACTGACAACCATGATGGTAGAGGATGTAT GGACCTCCGACAAATTGCGTGCGGCGTGGGTGGCCAACGTGGACATGGGGACCCAGTTAAGCCCACGAAGCGACGATGGTTCGCTAGGAAAGAACCGCGGCTCGTGTAAGGCTTTGTAACGCGTGGTGACCCGGGGAGCAAGGTCAACACGGTTGCACGGAACGCAAGAGACGCCTGTGTCCTTGAGGGTGTAACAAAGACTATGATACTTTTATAACGAGTCAGAGAGATCGTGTGCGCCAGAGCCTGCCGCCTGAGATTTGTACTTTCTTGGCGCTCATCGCGGGGTCACCCCTTACTAATGGCGCAACGTATTGGGATCTGTCTCAGCACTTGCACAGAGGATAACACGCGTTCCCTGGCATCACGGTCCTAAGTTGGATCCGTCGCATACGGAACGTCTGACCGCGAATCAAAGAGCCCGGTTCACGAGCATGCCGAAGAGCTCAGATCAATGGGTCATCCCGTGTTGCCCTCCCAGTGGCGGGTAAAGGATGCACGCTTCGTCAAATCAGCGACTGCCTGGGCGCCAGCTGGCTGTAACAAACCTAATCCACAGAATACGAAGCTCGGGACGAACGTTAGTAAATGTCTCTGAAGCTCCCTCCTTTGCAGTCTCTGGTCGGTAGTCTACTTTCAGGCTGTCGTCGGAAAGATGTTATATTCTCGTGACTGCTCTTCGTGTTTTTTATGCTCTTTATACCCGTTAGGACTTGACTTCTAACTGGTGCGGTATTCTTGTATTATATCACCGATCATGTCCATACCTAAACAGCCAAAGGAGACAGTTAGTCGGCGACATGACGAGAAGCCACTTTCTCTTCGAATTCATTTTTCGAGCTGAATGACCGAGGCAACGGGGATGTATGTGAACCCTCGAACGGGTGTGGCGGAGCTACCACCGAGGTTCAGGGCATGTTCGGATTTTTTTGCGCGCCCCTCCATTACCACTGACTCCTCCATTGATACCCGTCACGCGCCTGAGAATAGCGTCTATAG\n"
     ]
    }
   ],
   "source": [
    "data = input()"
   ]
  },
  {
   "cell_type": "code",
   "execution_count": 2,
   "id": "96a7770f",
   "metadata": {},
   "outputs": [
    {
     "name": "stdout",
     "output_type": "stream",
     "text": [
      "['GAACTTAACGCCGATGCATCGGGGAGGGTGTAACCGACGCCGGCCTCGCGCCGCTGTGATGCCCACGTACTTTCTCGAGTTAGCCCCCTATCAACTGCTGCTCGTTTATGCATTTATTTCGAGTGTGAACCTAGCTCCCTGGGTAGGGAACGGGGCCGGCGAACCGAGACGGAAGTCTGCATTATATGGTCTGACGGGGACGATAAATCGTTTCTCCCGATGAAATGTCCCCGTGGCCCCCCATGGAGGCCGCCTCATATGGGACCTTATCGGGGACGGCTGGGAGGGCCATCCCCTGGTACATGCAGCAGATATGGGGACCTTGCAATGCGCATTCGAAGGGAATAGTGTGCTTTTTAGGGGAACACTCCGAAAATTTCAGTCAGCTGCAAAGGTTAAGTGTTACGAGACTTCATTGCTCCGACGTCACGTTTAAGACATAAATGCTATATCAAGGAGAAAGACAGGCTTGCCGTGCCAGAGGCTGCTATCCTCTCCTCACCCCGTTAAGAACCTACCTCGGTGTGTAGACGCGTCTCTTCAACTACAGGATCTACAGGACCCTAGATCTGGAACGGACTCTAGTATAAGGATAGCATGATACCAGCATACCAAACTAAATGGGATCCACTTACCACATTAAGTCCTGCCACCGTGGTCTTTTTATGCTGAGTCCTCACGTTGCATAAAAGACTATTAGTTTCCGATAATTTCATAGCATTAAGTAGCACTTTGAGTACATTCGATGGACCATATCATCTCCACACCGAGCCAGCCAACTCAATCACCGAGACTCCATTAGGAGGAACGGACATTTTACCTCAGGAATTAGTTTTTGCGCTGGGGTATCTCAGAAGCCGGGAGCGAGCTGCCCTACCAAAGGGCCAAAATGCATAGATATACGAGGTTCGTGGTGTATAAACAACTCGATCGTCGCTTCCAGTTACATCCTATGGCGTCCAATGATACCACTGACAACCATGATGGTAGAGGATGTAT', 'GGACCTCCGACAAATTGCGTGCGGCGTGGGTGGCCAACGTGGACATGGGGACCCAGTTAAGCCCACGAAGCGACGATGGTTCGCTAGGAAAGAACCGCGGCTCGTGTAAGGCTTTGTAACGCGTGGTGACCCGGGGAGCAAGGTCAACACGGTTGCACGGAACGCAAGAGACGCCTGTGTCCTTGAGGGTGTAACAAAGACTATGATACTTTTATAACGAGTCAGAGAGATCGTGTGCGCCAGAGCCTGCCGCCTGAGATTTGTACTTTCTTGGCGCTCATCGCGGGGTCACCCCTTACTAATGGCGCAACGTATTGGGATCTGTCTCAGCACTTGCACAGAGGATAACACGCGTTCCCTGGCATCACGGTCCTAAGTTGGATCCGTCGCATACGGAACGTCTGACCGCGAATCAAAGAGCCCGGTTCACGAGCATGCCGAAGAGCTCAGATCAATGGGTCATCCCGTGTTGCCCTCCCAGTGGCGGGTAAAGGATGCACGCTTCGTCAAATCAGCGACTGCCTGGGCGCCAGCTGGCTGTAACAAACCTAATCCACAGAATACGAAGCTCGGGACGAACGTTAGTAAATGTCTCTGAAGCTCCCTCCTTTGCAGTCTCTGGTCGGTAGTCTACTTTCAGGCTGTCGTCGGAAAGATGTTATATTCTCGTGACTGCTCTTCGTGTTTTTTATGCTCTTTATACCCGTTAGGACTTGACTTCTAACTGGTGCGGTATTCTTGTATTATATCACCGATCATGTCCATACCTAAACAGCCAAAGGAGACAGTTAGTCGGCGACATGACGAGAAGCCACTTTCTCTTCGAATTCATTTTTCGAGCTGAATGACCGAGGCAACGGGGATGTATGTGAACCCTCGAACGGGTGTGGCGGAGCTACCACCGAGGTTCAGGGCATGTTCGGATTTTTTTGCGCGCCCCTCCATTACCACTGACTCCTCCATTGATACCCGTCACGCGCCTGAGAATAGCGTCTATAG']\n"
     ]
    }
   ],
   "source": [
    "sequences = data.split(\" \")\n",
    "print(sequences)"
   ]
  },
  {
   "cell_type": "code",
   "execution_count": 3,
   "id": "6e64db89",
   "metadata": {},
   "outputs": [
    {
     "name": "stdout",
     "output_type": "stream",
     "text": [
      "{1: ['G', 'A', 'A', 'C', 'T', 'T', 'A', 'A', 'C', 'G', 'C', 'C', 'G', 'A', 'T', 'G', 'C', 'A', 'T', 'C', 'G', 'G', 'G', 'G', 'A', 'G', 'G', 'G', 'T', 'G', 'T', 'A', 'A', 'C', 'C', 'G', 'A', 'C', 'G', 'C', 'C', 'G', 'G', 'C', 'C', 'T', 'C', 'G', 'C', 'G', 'C', 'C', 'G', 'C', 'T', 'G', 'T', 'G', 'A', 'T', 'G', 'C', 'C', 'C', 'A', 'C', 'G', 'T', 'A', 'C', 'T', 'T', 'T', 'C', 'T', 'C', 'G', 'A', 'G', 'T', 'T', 'A', 'G', 'C', 'C', 'C', 'C', 'C', 'T', 'A', 'T', 'C', 'A', 'A', 'C', 'T', 'G', 'C', 'T', 'G', 'C', 'T', 'C', 'G', 'T', 'T', 'T', 'A', 'T', 'G', 'C', 'A', 'T', 'T', 'T', 'A', 'T', 'T', 'T', 'C', 'G', 'A', 'G', 'T', 'G', 'T', 'G', 'A', 'A', 'C', 'C', 'T', 'A', 'G', 'C', 'T', 'C', 'C', 'C', 'T', 'G', 'G', 'G', 'T', 'A', 'G', 'G', 'G', 'A', 'A', 'C', 'G', 'G', 'G', 'G', 'C', 'C', 'G', 'G', 'C', 'G', 'A', 'A', 'C', 'C', 'G', 'A', 'G', 'A', 'C', 'G', 'G', 'A', 'A', 'G', 'T', 'C', 'T', 'G', 'C', 'A', 'T', 'T', 'A', 'T', 'A', 'T', 'G', 'G', 'T', 'C', 'T', 'G', 'A', 'C', 'G', 'G', 'G', 'G', 'A', 'C', 'G', 'A', 'T', 'A', 'A', 'A', 'T', 'C', 'G', 'T', 'T', 'T', 'C', 'T', 'C', 'C', 'C', 'G', 'A', 'T', 'G', 'A', 'A', 'A', 'T', 'G', 'T', 'C', 'C', 'C', 'C', 'G', 'T', 'G', 'G', 'C', 'C', 'C', 'C', 'C', 'C', 'A', 'T', 'G', 'G', 'A', 'G', 'G', 'C', 'C', 'G', 'C', 'C', 'T', 'C', 'A', 'T', 'A', 'T', 'G', 'G', 'G', 'A', 'C', 'C', 'T', 'T', 'A', 'T', 'C', 'G', 'G', 'G', 'G', 'A', 'C', 'G', 'G', 'C', 'T', 'G', 'G', 'G', 'A', 'G', 'G', 'G', 'C', 'C', 'A', 'T', 'C', 'C', 'C', 'C', 'T', 'G', 'G', 'T', 'A', 'C', 'A', 'T', 'G', 'C', 'A', 'G', 'C', 'A', 'G', 'A', 'T', 'A', 'T', 'G', 'G', 'G', 'G', 'A', 'C', 'C', 'T', 'T', 'G', 'C', 'A', 'A', 'T', 'G', 'C', 'G', 'C', 'A', 'T', 'T', 'C', 'G', 'A', 'A', 'G', 'G', 'G', 'A', 'A', 'T', 'A', 'G', 'T', 'G', 'T', 'G', 'C', 'T', 'T', 'T', 'T', 'T', 'A', 'G', 'G', 'G', 'G', 'A', 'A', 'C', 'A', 'C', 'T', 'C', 'C', 'G', 'A', 'A', 'A', 'A', 'T', 'T', 'T', 'C', 'A', 'G', 'T', 'C', 'A', 'G', 'C', 'T', 'G', 'C', 'A', 'A', 'A', 'G', 'G', 'T', 'T', 'A', 'A', 'G', 'T', 'G', 'T', 'T', 'A', 'C', 'G', 'A', 'G', 'A', 'C', 'T', 'T', 'C', 'A', 'T', 'T', 'G', 'C', 'T', 'C', 'C', 'G', 'A', 'C', 'G', 'T', 'C', 'A', 'C', 'G', 'T', 'T', 'T', 'A', 'A', 'G', 'A', 'C', 'A', 'T', 'A', 'A', 'A', 'T', 'G', 'C', 'T', 'A', 'T', 'A', 'T', 'C', 'A', 'A', 'G', 'G', 'A', 'G', 'A', 'A', 'A', 'G', 'A', 'C', 'A', 'G', 'G', 'C', 'T', 'T', 'G', 'C', 'C', 'G', 'T', 'G', 'C', 'C', 'A', 'G', 'A', 'G', 'G', 'C', 'T', 'G', 'C', 'T', 'A', 'T', 'C', 'C', 'T', 'C', 'T', 'C', 'C', 'T', 'C', 'A', 'C', 'C', 'C', 'C', 'G', 'T', 'T', 'A', 'A', 'G', 'A', 'A', 'C', 'C', 'T', 'A', 'C', 'C', 'T', 'C', 'G', 'G', 'T', 'G', 'T', 'G', 'T', 'A', 'G', 'A', 'C', 'G', 'C', 'G', 'T', 'C', 'T', 'C', 'T', 'T', 'C', 'A', 'A', 'C', 'T', 'A', 'C', 'A', 'G', 'G', 'A', 'T', 'C', 'T', 'A', 'C', 'A', 'G', 'G', 'A', 'C', 'C', 'C', 'T', 'A', 'G', 'A', 'T', 'C', 'T', 'G', 'G', 'A', 'A', 'C', 'G', 'G', 'A', 'C', 'T', 'C', 'T', 'A', 'G', 'T', 'A', 'T', 'A', 'A', 'G', 'G', 'A', 'T', 'A', 'G', 'C', 'A', 'T', 'G', 'A', 'T', 'A', 'C', 'C', 'A', 'G', 'C', 'A', 'T', 'A', 'C', 'C', 'A', 'A', 'A', 'C', 'T', 'A', 'A', 'A', 'T', 'G', 'G', 'G', 'A', 'T', 'C', 'C', 'A', 'C', 'T', 'T', 'A', 'C', 'C', 'A', 'C', 'A', 'T', 'T', 'A', 'A', 'G', 'T', 'C', 'C', 'T', 'G', 'C', 'C', 'A', 'C', 'C', 'G', 'T', 'G', 'G', 'T', 'C', 'T', 'T', 'T', 'T', 'T', 'A', 'T', 'G', 'C', 'T', 'G', 'A', 'G', 'T', 'C', 'C', 'T', 'C', 'A', 'C', 'G', 'T', 'T', 'G', 'C', 'A', 'T', 'A', 'A', 'A', 'A', 'G', 'A', 'C', 'T', 'A', 'T', 'T', 'A', 'G', 'T', 'T', 'T', 'C', 'C', 'G', 'A', 'T', 'A', 'A', 'T', 'T', 'T', 'C', 'A', 'T', 'A', 'G', 'C', 'A', 'T', 'T', 'A', 'A', 'G', 'T', 'A', 'G', 'C', 'A', 'C', 'T', 'T', 'T', 'G', 'A', 'G', 'T', 'A', 'C', 'A', 'T', 'T', 'C', 'G', 'A', 'T', 'G', 'G', 'A', 'C', 'C', 'A', 'T', 'A', 'T', 'C', 'A', 'T', 'C', 'T', 'C', 'C', 'A', 'C', 'A', 'C', 'C', 'G', 'A', 'G', 'C', 'C', 'A', 'G', 'C', 'C', 'A', 'A', 'C', 'T', 'C', 'A', 'A', 'T', 'C', 'A', 'C', 'C', 'G', 'A', 'G', 'A', 'C', 'T', 'C', 'C', 'A', 'T', 'T', 'A', 'G', 'G', 'A', 'G', 'G', 'A', 'A', 'C', 'G', 'G', 'A', 'C', 'A', 'T', 'T', 'T', 'T', 'A', 'C', 'C', 'T', 'C', 'A', 'G', 'G', 'A', 'A', 'T', 'T', 'A', 'G', 'T', 'T', 'T', 'T', 'T', 'G', 'C', 'G', 'C', 'T', 'G', 'G', 'G', 'G', 'T', 'A', 'T', 'C', 'T', 'C', 'A', 'G', 'A', 'A', 'G', 'C', 'C', 'G', 'G', 'G', 'A', 'G', 'C', 'G', 'A', 'G', 'C', 'T', 'G', 'C', 'C', 'C', 'T', 'A', 'C', 'C', 'A', 'A', 'A', 'G', 'G', 'G', 'C', 'C', 'A', 'A', 'A', 'A', 'T', 'G', 'C', 'A', 'T', 'A', 'G', 'A', 'T', 'A', 'T', 'A', 'C', 'G', 'A', 'G', 'G', 'T', 'T', 'C', 'G', 'T', 'G', 'G', 'T', 'G', 'T', 'A', 'T', 'A', 'A', 'A', 'C', 'A', 'A', 'C', 'T', 'C', 'G', 'A', 'T', 'C', 'G', 'T', 'C', 'G', 'C', 'T', 'T', 'C', 'C', 'A', 'G', 'T', 'T', 'A', 'C', 'A', 'T', 'C', 'C', 'T', 'A', 'T', 'G', 'G', 'C', 'G', 'T', 'C', 'C', 'A', 'A', 'T', 'G', 'A', 'T', 'A', 'C', 'C', 'A', 'C', 'T', 'G', 'A', 'C', 'A', 'A', 'C', 'C', 'A', 'T', 'G', 'A', 'T', 'G', 'G', 'T', 'A', 'G', 'A', 'G', 'G', 'A', 'T', 'G', 'T', 'A', 'T'], 2: ['G', 'G', 'A', 'C', 'C', 'T', 'C', 'C', 'G', 'A', 'C', 'A', 'A', 'A', 'T', 'T', 'G', 'C', 'G', 'T', 'G', 'C', 'G', 'G', 'C', 'G', 'T', 'G', 'G', 'G', 'T', 'G', 'G', 'C', 'C', 'A', 'A', 'C', 'G', 'T', 'G', 'G', 'A', 'C', 'A', 'T', 'G', 'G', 'G', 'G', 'A', 'C', 'C', 'C', 'A', 'G', 'T', 'T', 'A', 'A', 'G', 'C', 'C', 'C', 'A', 'C', 'G', 'A', 'A', 'G', 'C', 'G', 'A', 'C', 'G', 'A', 'T', 'G', 'G', 'T', 'T', 'C', 'G', 'C', 'T', 'A', 'G', 'G', 'A', 'A', 'A', 'G', 'A', 'A', 'C', 'C', 'G', 'C', 'G', 'G', 'C', 'T', 'C', 'G', 'T', 'G', 'T', 'A', 'A', 'G', 'G', 'C', 'T', 'T', 'T', 'G', 'T', 'A', 'A', 'C', 'G', 'C', 'G', 'T', 'G', 'G', 'T', 'G', 'A', 'C', 'C', 'C', 'G', 'G', 'G', 'G', 'A', 'G', 'C', 'A', 'A', 'G', 'G', 'T', 'C', 'A', 'A', 'C', 'A', 'C', 'G', 'G', 'T', 'T', 'G', 'C', 'A', 'C', 'G', 'G', 'A', 'A', 'C', 'G', 'C', 'A', 'A', 'G', 'A', 'G', 'A', 'C', 'G', 'C', 'C', 'T', 'G', 'T', 'G', 'T', 'C', 'C', 'T', 'T', 'G', 'A', 'G', 'G', 'G', 'T', 'G', 'T', 'A', 'A', 'C', 'A', 'A', 'A', 'G', 'A', 'C', 'T', 'A', 'T', 'G', 'A', 'T', 'A', 'C', 'T', 'T', 'T', 'T', 'A', 'T', 'A', 'A', 'C', 'G', 'A', 'G', 'T', 'C', 'A', 'G', 'A', 'G', 'A', 'G', 'A', 'T', 'C', 'G', 'T', 'G', 'T', 'G', 'C', 'G', 'C', 'C', 'A', 'G', 'A', 'G', 'C', 'C', 'T', 'G', 'C', 'C', 'G', 'C', 'C', 'T', 'G', 'A', 'G', 'A', 'T', 'T', 'T', 'G', 'T', 'A', 'C', 'T', 'T', 'T', 'C', 'T', 'T', 'G', 'G', 'C', 'G', 'C', 'T', 'C', 'A', 'T', 'C', 'G', 'C', 'G', 'G', 'G', 'G', 'T', 'C', 'A', 'C', 'C', 'C', 'C', 'T', 'T', 'A', 'C', 'T', 'A', 'A', 'T', 'G', 'G', 'C', 'G', 'C', 'A', 'A', 'C', 'G', 'T', 'A', 'T', 'T', 'G', 'G', 'G', 'A', 'T', 'C', 'T', 'G', 'T', 'C', 'T', 'C', 'A', 'G', 'C', 'A', 'C', 'T', 'T', 'G', 'C', 'A', 'C', 'A', 'G', 'A', 'G', 'G', 'A', 'T', 'A', 'A', 'C', 'A', 'C', 'G', 'C', 'G', 'T', 'T', 'C', 'C', 'C', 'T', 'G', 'G', 'C', 'A', 'T', 'C', 'A', 'C', 'G', 'G', 'T', 'C', 'C', 'T', 'A', 'A', 'G', 'T', 'T', 'G', 'G', 'A', 'T', 'C', 'C', 'G', 'T', 'C', 'G', 'C', 'A', 'T', 'A', 'C', 'G', 'G', 'A', 'A', 'C', 'G', 'T', 'C', 'T', 'G', 'A', 'C', 'C', 'G', 'C', 'G', 'A', 'A', 'T', 'C', 'A', 'A', 'A', 'G', 'A', 'G', 'C', 'C', 'C', 'G', 'G', 'T', 'T', 'C', 'A', 'C', 'G', 'A', 'G', 'C', 'A', 'T', 'G', 'C', 'C', 'G', 'A', 'A', 'G', 'A', 'G', 'C', 'T', 'C', 'A', 'G', 'A', 'T', 'C', 'A', 'A', 'T', 'G', 'G', 'G', 'T', 'C', 'A', 'T', 'C', 'C', 'C', 'G', 'T', 'G', 'T', 'T', 'G', 'C', 'C', 'C', 'T', 'C', 'C', 'C', 'A', 'G', 'T', 'G', 'G', 'C', 'G', 'G', 'G', 'T', 'A', 'A', 'A', 'G', 'G', 'A', 'T', 'G', 'C', 'A', 'C', 'G', 'C', 'T', 'T', 'C', 'G', 'T', 'C', 'A', 'A', 'A', 'T', 'C', 'A', 'G', 'C', 'G', 'A', 'C', 'T', 'G', 'C', 'C', 'T', 'G', 'G', 'G', 'C', 'G', 'C', 'C', 'A', 'G', 'C', 'T', 'G', 'G', 'C', 'T', 'G', 'T', 'A', 'A', 'C', 'A', 'A', 'A', 'C', 'C', 'T', 'A', 'A', 'T', 'C', 'C', 'A', 'C', 'A', 'G', 'A', 'A', 'T', 'A', 'C', 'G', 'A', 'A', 'G', 'C', 'T', 'C', 'G', 'G', 'G', 'A', 'C', 'G', 'A', 'A', 'C', 'G', 'T', 'T', 'A', 'G', 'T', 'A', 'A', 'A', 'T', 'G', 'T', 'C', 'T', 'C', 'T', 'G', 'A', 'A', 'G', 'C', 'T', 'C', 'C', 'C', 'T', 'C', 'C', 'T', 'T', 'T', 'G', 'C', 'A', 'G', 'T', 'C', 'T', 'C', 'T', 'G', 'G', 'T', 'C', 'G', 'G', 'T', 'A', 'G', 'T', 'C', 'T', 'A', 'C', 'T', 'T', 'T', 'C', 'A', 'G', 'G', 'C', 'T', 'G', 'T', 'C', 'G', 'T', 'C', 'G', 'G', 'A', 'A', 'A', 'G', 'A', 'T', 'G', 'T', 'T', 'A', 'T', 'A', 'T', 'T', 'C', 'T', 'C', 'G', 'T', 'G', 'A', 'C', 'T', 'G', 'C', 'T', 'C', 'T', 'T', 'C', 'G', 'T', 'G', 'T', 'T', 'T', 'T', 'T', 'T', 'A', 'T', 'G', 'C', 'T', 'C', 'T', 'T', 'T', 'A', 'T', 'A', 'C', 'C', 'C', 'G', 'T', 'T', 'A', 'G', 'G', 'A', 'C', 'T', 'T', 'G', 'A', 'C', 'T', 'T', 'C', 'T', 'A', 'A', 'C', 'T', 'G', 'G', 'T', 'G', 'C', 'G', 'G', 'T', 'A', 'T', 'T', 'C', 'T', 'T', 'G', 'T', 'A', 'T', 'T', 'A', 'T', 'A', 'T', 'C', 'A', 'C', 'C', 'G', 'A', 'T', 'C', 'A', 'T', 'G', 'T', 'C', 'C', 'A', 'T', 'A', 'C', 'C', 'T', 'A', 'A', 'A', 'C', 'A', 'G', 'C', 'C', 'A', 'A', 'A', 'G', 'G', 'A', 'G', 'A', 'C', 'A', 'G', 'T', 'T', 'A', 'G', 'T', 'C', 'G', 'G', 'C', 'G', 'A', 'C', 'A', 'T', 'G', 'A', 'C', 'G', 'A', 'G', 'A', 'A', 'G', 'C', 'C', 'A', 'C', 'T', 'T', 'T', 'C', 'T', 'C', 'T', 'T', 'C', 'G', 'A', 'A', 'T', 'T', 'C', 'A', 'T', 'T', 'T', 'T', 'T', 'C', 'G', 'A', 'G', 'C', 'T', 'G', 'A', 'A', 'T', 'G', 'A', 'C', 'C', 'G', 'A', 'G', 'G', 'C', 'A', 'A', 'C', 'G', 'G', 'G', 'G', 'A', 'T', 'G', 'T', 'A', 'T', 'G', 'T', 'G', 'A', 'A', 'C', 'C', 'C', 'T', 'C', 'G', 'A', 'A', 'C', 'G', 'G', 'G', 'T', 'G', 'T', 'G', 'G', 'C', 'G', 'G', 'A', 'G', 'C', 'T', 'A', 'C', 'C', 'A', 'C', 'C', 'G', 'A', 'G', 'G', 'T', 'T', 'C', 'A', 'G', 'G', 'G', 'C', 'A', 'T', 'G', 'T', 'T', 'C', 'G', 'G', 'A', 'T', 'T', 'T', 'T', 'T', 'T', 'T', 'G', 'C', 'G', 'C', 'G', 'C', 'C', 'C', 'C', 'T', 'C', 'C', 'A', 'T', 'T', 'A', 'C', 'C', 'A', 'C', 'T', 'G', 'A', 'C', 'T', 'C', 'C', 'T', 'C', 'C', 'A', 'T', 'T', 'G', 'A', 'T', 'A', 'C', 'C', 'C', 'G', 'T', 'C', 'A', 'C', 'G', 'C', 'G', 'C', 'C', 'T', 'G', 'A', 'G', 'A', 'A', 'T', 'A', 'G', 'C', 'G', 'T', 'C', 'T', 'A', 'T', 'A', 'G']}\n",
      "525\n",
      "2\n"
     ]
    }
   ],
   "source": [
    "# Initialize an empty dictionary to store the sequences\n",
    "output = {}\n",
    "\n",
    "# Iterate over the input sequences, enumerate() returns a tuple of the index and the value\n",
    "# and we add 1 to the index to get 1-indexed keys in the output dictionary\n",
    "\n",
    "for i, s in enumerate(sequences):\n",
    "    output[i+1] = list(s)\n",
    "\n",
    "# Print the output dictionary\n",
    "print(output)\n",
    "\n",
    "# Initialize a score variable to keep track of the number of differences between pairs of sequences\n",
    "score = 0\n",
    "\n",
    "# Iterate over all pairs of lists in the dictionary using nested for loops\n",
    "for i in range(1, len(output)):\n",
    "    for j in range(i+1, len(output)+1):\n",
    "        \n",
    "        # Compare the corresponding elements in the two lists using another for loop\n",
    "        for k in range(len(output[i])):\n",
    "            \n",
    "            # If the two elements are not equal, increment the score\n",
    "            if output[i][k] != output[j][k]:\n",
    "                score += 1\n",
    "                \n",
    "# Print the final score\n",
    "print(score)\n",
    "print(len(output))"
   ]
  },
  {
   "cell_type": "code",
   "execution_count": 12,
   "id": "2955717a",
   "metadata": {},
   "outputs": [
    {
     "name": "stdout",
     "output_type": "stream",
     "text": [
      "{1: ['F', 'C', '2', '1', '2', '6'], 2: ['F', 'C', 'G', '1', '0', '5', '9'], 3: ['F', 'C', 'G', '1', '0', '6', '9'], 4: ['F', 'C', 'G', '1', '0', '7', '7'], 5: ['F', 'C', 'G', '1', '0', '7', '6']}\n"
     ]
    }
   ],
   "source": [
    "processes = ['FC2126' , 'FCG1059', 'FCG1069', 'FCG1077', 'FCG1076']\n",
    "\n",
    "# Initialize an empty dictionary to store the sequences\n",
    "output2 = {}\n",
    "\n",
    "\n",
    "for i, s in enumerate(processes):\n",
    "    output2[i+1] = list(s)\n",
    "\n",
    "print(output2)\n",
    "   "
   ]
  }
 ],
 "metadata": {
  "kernelspec": {
   "display_name": "Python 3 (ipykernel)",
   "language": "python",
   "name": "python3"
  },
  "language_info": {
   "codemirror_mode": {
    "name": "ipython",
    "version": 3
   },
   "file_extension": ".py",
   "mimetype": "text/x-python",
   "name": "python",
   "nbconvert_exporter": "python",
   "pygments_lexer": "ipython3",
   "version": "3.9.12"
  }
 },
 "nbformat": 4,
 "nbformat_minor": 5
}
