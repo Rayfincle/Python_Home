{
 "cells": [
  {
   "cell_type": "code",
   "execution_count": 87,
   "id": "e1602125",
   "metadata": {},
   "outputs": [
    {
     "name": "stdout",
     "output_type": "stream",
     "text": [
      "GCAGCAATTACCGCTAAAAGTGATCTATCCAACCAGTCCAGTAGACTCTCCTGGGCTGCATACCTCACACAGTCTCTCACCTTATTCCGCTGCCTCATTCATACAGGTCGCCCGTCCAGGCCTGTCGTATGTGATGTCGGCCACCCTCTTCTATCAACATCTCACGCCTCTGCGCCTTATTATATGTCCAATTTGATGGGTCCTAACTATATTTTATGCCGTAGTTGTTCCAAAATATCTGCATAACTTATGCACTGCAGGCTGATAACGTGGCAGCCTTCGACAGATCGACTGCACACGTACCGGCTCGTCCCACACGCGTATCAGTCAATAGTCGCACGCAACAACGCAGCCCTTATCGACTGAGTGCCATGGTTCGTTGAGACTGCCCCACTCTCCCGTCATGGGCTAATAGTAGCTACTTAAGTCATTAACAGAATCGGTCACGATGTCGTTAGGGGCCAGGACCTTCAGTCCATAACGGAGCCGGCGCGTTGTCAGGCATACTTGGGAACGCAGGGATCCAACGGTAATATGCAAGGGCGGCGCACATCATTCATTGAGTATGGAGGGTTAGCCGATGCGAGAATTGGTGTTGCGTGGGATGACGGTAACGGGCCTTATCTCTCCCATGTGTAGTGCCCCCCCAGCCTTGTACGGGCGGACTTAGACTATGTATCGGATATCGCCACACACTTCTGCTGTGAATGGAAGCTAAAGACTAGCTATTCGAGATGGTCTGCTGTTAACTCTGTGAGCAATTCTCAATCAACTACCGAAACCGCCCCTCTGATAAAGGTGACACACGGGCTTCCGGATCGGTG\n"
     ]
    }
   ],
   "source": [
    "DNA = input()"
   ]
  },
  {
   "cell_type": "code",
   "execution_count": 88,
   "id": "eead2bbf",
   "metadata": {},
   "outputs": [
    {
     "name": "stdout",
     "output_type": "stream",
     "text": [
      "192 229 195 208\n"
     ]
    }
   ],
   "source": [
    "from collections import Counter\n",
    "Answer = Counter(DNA)\n",
    "result = list(Answer.values())\n",
    "print(f\"{Answer['A']} {Answer['C']} {Answer['G']} {Answer['T']}\")\n"
   ]
  }
 ],
 "metadata": {
  "kernelspec": {
   "display_name": "Python 3 (ipykernel)",
   "language": "python",
   "name": "python3"
  },
  "language_info": {
   "codemirror_mode": {
    "name": "ipython",
    "version": 3
   },
   "file_extension": ".py",
   "mimetype": "text/x-python",
   "name": "python",
   "nbconvert_exporter": "python",
   "pygments_lexer": "ipython3",
   "version": "3.9.12"
  }
 },
 "nbformat": 4,
 "nbformat_minor": 5
}
