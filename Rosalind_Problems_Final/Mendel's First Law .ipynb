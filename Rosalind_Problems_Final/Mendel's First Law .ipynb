{
 "cells": [
  {
   "cell_type": "code",
   "execution_count": 66,
   "id": "e881059e",
   "metadata": {},
   "outputs": [
    {
     "name": "stdout",
     "output_type": "stream",
     "text": [
      "Value for k: 2\n",
      "Value for m: 2\n",
      "Value for n: 2\n",
      "0.7833333333333333\n"
     ]
    }
   ],
   "source": [
    "k = int(input(\"Value for k: \"))\n",
    "m = int(input(\"Value for m: \"))\n",
    "n = int(input(\"Value for n: \"))\n",
    "\n",
    "k = k +1\n",
    "m = m + 1\n",
    "n = n + 1\n",
    "\n",
    "\n",
    "genetics = {}\n",
    "\n",
    "# create 16 keys with ['H', 'H'] as values\n",
    "for i in range(1, k):\n",
    "    key = 'k' + str(i)\n",
    "    genetics[key] = ['H', 'H']\n",
    "\n",
    "# create 19 keys with ['H', 'h'] as values\n",
    "for i in range(1, m):\n",
    "    key = 'm' + str(i)\n",
    "    genetics[key] = ['H', 'h']\n",
    "\n",
    "# create 24 keys with ['h', 'h'] as values\n",
    "for i in range(1, n):\n",
    "    key = 'n' + str(i)\n",
    "    genetics[key] = ['h', 'h']\n",
    "\n",
    "    \n",
    "cross = []\n",
    "\n",
    "for key in genetics:\n",
    "    cycle_value = genetics[key]    # > Runs through the dictionary keys\n",
    "    \n",
    "    # Get the index of the current key\n",
    "    current_index = list(genetics.keys()).index(key) # > Grabs the index of where the for loop is above by turning a dictionary to a list\n",
    "    \n",
    "    # Loop over all keys after the current key\n",
    "    for other_key in list(genetics.keys())[current_index+1:]: # Starts a second loop though the dictionary, turning the dictionary to a list and slicing from index+1: to the  end of the list.\n",
    "        other_cycle_value = genetics[other_key]\n",
    "        \n",
    "        # The two for loops above basically for loop 1 grabs one key from the dictionary and the second for loop grabs the next key along we now have both stored in cycle_value and other_cycle_value to work with in the next steps.\n",
    "        #\n",
    "        #Loop over the values in both cycles and print the combinations\n",
    "        for i in range(len(cycle_value)): # loops through all of the values in the values list initiated by the first for loop.\n",
    "            for j in range(len(other_cycle_value)): # Does the same as above but with the second for loop on the next kay along\n",
    "                cross.append(cycle_value[i] + other_cycle_value[j]) # adds both together and prints.\n",
    "                \n",
    "\n",
    "\n",
    "present = 0\n",
    "absent = 0\n",
    "\n",
    "for item in cross:\n",
    "    if \"H\" in item:\n",
    "        present = present + 1\n",
    "    else:\n",
    "        absent = absent + 1\n",
    "        \n",
    "print(present / (present + absent))\n",
    "    "
   ]
  }
 ],
 "metadata": {
  "kernelspec": {
   "display_name": "Python 3 (ipykernel)",
   "language": "python",
   "name": "python3"
  },
  "language_info": {
   "codemirror_mode": {
    "name": "ipython",
    "version": 3
   },
   "file_extension": ".py",
   "mimetype": "text/x-python",
   "name": "python",
   "nbconvert_exporter": "python",
   "pygments_lexer": "ipython3",
   "version": "3.9.12"
  }
 },
 "nbformat": 4,
 "nbformat_minor": 5
}
